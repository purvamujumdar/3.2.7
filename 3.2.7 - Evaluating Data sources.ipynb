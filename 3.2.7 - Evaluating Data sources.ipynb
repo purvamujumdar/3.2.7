{
 "cells": [
  {
   "cell_type": "markdown",
   "metadata": {},
   "source": [
    "## Drill - Evaluating Data Sources"
   ]
  },
  {
   "cell_type": "markdown",
   "metadata": {},
   "source": [
    "1. The question needs to be modified in this case. The question should be more precise and should be and include a particular time frame in the question. The popular neighbourhoods of Amsterdam are . likely to change based on different seasons of the years as well as the events occuring throughout the year."
   ]
  },
  {
   "cell_type": "markdown",
   "metadata": {},
   "source": [
    "2. Since the data source provides the data for 12th September 2001 i.e. the very next day of 9/11 attack, it is very evident that the mental health service data for NY and cities closer to NY is going to be exceptionally different as compared to San Fransisco. So in this case, the question can be modified to to understand the trends of mental health service based on proxiti of the city to NY city."
   ]
  },
  {
   "cell_type": "markdown",
   "metadata": {},
   "source": [
    "3. The Armenians Pub survey shows that most of the people who took this survey are students. Thus it is highly evident that the data is biased. In order to answer the question, the data needs to be unbiased and should take in consideration different types of people in the population."
   ]
  }
 ],
 "metadata": {
  "kernelspec": {
   "display_name": "Python 3",
   "language": "python",
   "name": "python3"
  },
  "language_info": {
   "codemirror_mode": {
    "name": "ipython",
    "version": 3
   },
   "file_extension": ".py",
   "mimetype": "text/x-python",
   "name": "python",
   "nbconvert_exporter": "python",
   "pygments_lexer": "ipython3",
   "version": "3.7.0"
  }
 },
 "nbformat": 4,
 "nbformat_minor": 2
}
